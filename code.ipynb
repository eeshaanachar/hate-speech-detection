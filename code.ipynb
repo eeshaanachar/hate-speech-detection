{
 "metadata": {
  "language_info": {
   "codemirror_mode": {
    "name": "ipython",
    "version": 3
   },
   "file_extension": ".py",
   "mimetype": "text/x-python",
   "name": "python",
   "nbconvert_exporter": "python",
   "pygments_lexer": "ipython3",
   "version": "3.7.3-final"
  },
  "orig_nbformat": 2,
  "kernelspec": {
   "name": "python3",
   "display_name": "Python 3"
  }
 },
 "nbformat": 4,
 "nbformat_minor": 2,
 "cells": [
  {
   "cell_type": "code",
   "execution_count": 1,
   "metadata": {},
   "outputs": [],
   "source": [
    "import re\n",
    "import joblib\n",
    "import pandas as pd\n",
    "from sklearn.svm import SVC\n",
    "from sklearn.pipeline import Pipeline\n",
    "from sklearn.model_selection import train_test_split\n",
    "from sklearn.metrics import f1_score, confusion_matrix\n",
    "from sklearn.feature_extraction.text import TfidfVectorizer"
   ]
  },
  {
   "cell_type": "code",
   "execution_count": 2,
   "metadata": {},
   "outputs": [],
   "source": [
    "# Loading the Dataset\n",
    "\n",
    "df = pd.read_csv('annotations_metadata.csv')\n",
    "df = df[df.num_contexts == 0]\n",
    "df = df[df.label.isin(['hate', 'noHate'])]\n",
    "\n",
    "df['text'] = ''\n",
    "for i, file_id in enumerate(df.file_id):\n",
    "    with open('all_files/' + file_id + '.txt') as fh:\n",
    "        df.iloc[i, -1] = fh.read()\n",
    "\n",
    "df = df[['text', 'label']]\n",
    "df.reset_index(drop=True, inplace=True)"
   ]
  },
  {
   "cell_type": "code",
   "execution_count": 3,
   "metadata": {},
   "outputs": [],
   "source": [
    "# Pre processing and test train split\n",
    "\n",
    "def clean_text(text):\n",
    "    text = re.sub('\\w*\\d+\\w*', '', text)\n",
    "    text = re.sub('\\W+', ' ', text)\n",
    "    return text\n",
    "\n",
    "X = df.text.apply(clean_text)\n",
    "y = df.label.apply(lambda x : 1 if x == 'hate' else 0)\n",
    "\n",
    "X_train, X_test, y_train, y_test = train_test_split(X, y, test_size=0.2, random_state=1)"
   ]
  },
  {
   "cell_type": "code",
   "execution_count": 4,
   "metadata": {},
   "outputs": [
    {
     "output_type": "execute_result",
     "data": {
      "text/plain": [
       "['svm_model']"
      ]
     },
     "metadata": {},
     "execution_count": 4
    }
   ],
   "source": [
    "# Training\n",
    "\n",
    "clf = Pipeline([\n",
    "    ('vectorizer', TfidfVectorizer(max_features=1000)),\n",
    "    ('SVM', SVC(C=8000, kernel='rbf'))\n",
    "])\n",
    "\n",
    "clf.fit(X_train, y_train)\n",
    "\n",
    "joblib.dump(clf, 'svm_model')"
   ]
  },
  {
   "cell_type": "code",
   "execution_count": 5,
   "metadata": {},
   "outputs": [
    {
     "output_type": "stream",
     "name": "stdout",
     "text": [
      "Test Accuracy: 90.3242408646423%\n",
      "Test F1 Score: 27.131782945736433%\n",
      "[[1720   30]\n",
      " [ 158   35]]\n"
     ]
    }
   ],
   "source": [
    "# Testing\n",
    "\n",
    "print(f'Test Accuracy: {clf.score(X_test, y_test) * 100}%')\n",
    "print(f'Test F1 Score: {f1_score(y_test, clf.predict(X_test)) * 100}%')\n",
    "print(confusion_matrix(y_test, clf.predict(X_test)))"
   ]
  },
  {
   "cell_type": "code",
   "execution_count": 6,
   "metadata": {},
   "outputs": [
    {
     "output_type": "stream",
     "name": "stdout",
     "text": [
      "Hate\n"
     ]
    }
   ],
   "source": [
    "sample_text = \"I wonder why the Jewish Media always pretends that all the blood thirsty third world savages are victims and it is all Whitey 's fault ?\"\n",
    "\n",
    "clf = joblib.load('svm_model')\n",
    "cleaned_sample_text = clean_text(sample_text)\n",
    "\n",
    "if clf.predict([cleaned_sample_text])[0] == 1:\n",
    "    print('Hate')\n",
    "else:\n",
    "    print('No Hate')"
   ]
  }
 ]
}