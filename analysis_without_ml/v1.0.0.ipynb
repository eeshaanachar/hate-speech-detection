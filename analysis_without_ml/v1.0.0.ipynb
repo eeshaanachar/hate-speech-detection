{
 "cells": [
  {
   "cell_type": "code",
   "execution_count": 6,
   "metadata": {},
   "outputs": [],
   "source": [
    "import pandas as pd\n",
    "import nltk\n",
    "import math\n",
    "import numpy as np\n",
    "import matplotlib.pyplot as plt\n",
    "#nltk.download('stopwords')\n",
    "#nltk.download('punkt')"
   ]
  },
  {
   "cell_type": "code",
   "execution_count": 7,
   "metadata": {},
   "outputs": [],
   "source": [
    "stopwords = nltk.corpus.stopwords.words('english')\n",
    "data = pd.read_csv('annotations_metadata.csv', na_values = ['idk/skip'], index_col = 'file_id')\n",
    "data.dropna(axis = 0, inplace = True)"
   ]
  },
  {
   "cell_type": "code",
   "execution_count": 8,
   "metadata": {},
   "outputs": [],
   "source": [
    "#train\n",
    "temp = data.head(math.floor(len(data)*0.7))\n",
    "filenames = temp[temp.label == 'hate'].index\n",
    "word_frequencies = {}\n",
    "for file in filenames:\n",
    "    ifile = open('./all_files/'+file+'.txt')\n",
    "    try:\n",
    "        file_contents = ifile.read()\n",
    "    except:\n",
    "        continue\n",
    "    for word in nltk.word_tokenize(file_contents):\n",
    "        word = word.lower()\n",
    "        if word not in stopwords and len(word)>2 and word.isalpha():\n",
    "            if word not in word_frequencies.keys():\n",
    "                word_frequencies[word] = 1\n",
    "            else:\n",
    "                word_frequencies[word] += 1\n",
    "    ifile.close()"
   ]
  },
  {
   "cell_type": "code",
   "execution_count": 9,
   "metadata": {},
   "outputs": [],
   "source": [
    "#predict\n",
    "test_file_count = math.ceil(len(data)*0.3)\n",
    "filenames = data.tail(test_file_count).index\n",
    "results = dict()\n",
    "for file in filenames:\n",
    "    ifile = open('./all_files/'+file+'.txt')\n",
    "    try:\n",
    "        file_contents = ifile.read()\n",
    "    except:\n",
    "        continue\n",
    "    score, count = 0, 0\n",
    "    for word in nltk.word_tokenize(file_contents):\n",
    "        word = word.lower()\n",
    "        if word not in stopwords and len(word)>2 and word.isalpha():\n",
    "            count += 1\n",
    "            score += word_frequencies.get(word, 0)\n",
    "    if count != 0:\n",
    "        avg_score = score/count\n",
    "    else:\n",
    "        avg_score = 0\n",
    "    results[file] = avg_score"
   ]
  },
  {
   "cell_type": "code",
   "execution_count": 10,
   "metadata": {},
   "outputs": [
    {
     "data": {
      "image/png": "[encoded data removed]",
      "text/plain": [
       "<Figure size 432x288 with 1 Axes>"
      ]
     },
     "metadata": {
      "needs_background": "light"
     },
     "output_type": "display_data"
    }
   ],
   "source": [
    "#analyse\n",
    "max_score = max(results.values())\n",
    "accuracy, precision, recall, cutoffs = list(), list(), list(), list()\n",
    "for i in range(10, 50):\n",
    "    tp, tn, fp, fn = 0, 0, 0, 0\n",
    "    cutoff = i/max_score\n",
    "    for k,v in results.items():\n",
    "        normal_score = v/max_score\n",
    "        if normal_score > cutoff:\n",
    "            if data.loc[k, 'label'] == 'hate':\n",
    "                tp += 1\n",
    "            else:\n",
    "                fp += 1\n",
    "        else:\n",
    "            if data.loc[k, 'label'] == 'noHate':\n",
    "                tn += 1\n",
    "            else:\n",
    "                fn += 1\n",
    "    accuracy.append((tp+tn)/(tp+tn+fp+fn))\n",
    "    precision.append(tp/(tp+fp))\n",
    "    recall.append(tp/(tp+fn))\n",
    "    cutoffs.append(cutoff)\n",
    "plt.plot(cutoffs, accuracy, label = 'Accuracy')\n",
    "plt.plot(cutoffs, precision, label = 'Precision')\n",
    "plt.plot(cutoffs, recall, label = 'Recall')\n",
    "plt.legend()\n",
    "plt.show()"
   ]
  },
  {
   "cell_type": "code",
   "execution_count": null,
   "metadata": {},
   "outputs": [],
   "source": []
  }
 ],
 "metadata": {
  "kernelspec": {
   "display_name": "Python 3",
   "language": "python",
   "name": "python3"
  },
  "language_info": {
   "codemirror_mode": {
    "name": "ipython",
    "version": 3
   },
   "file_extension": ".py",
   "mimetype": "text/x-python",
   "name": "python",
   "nbconvert_exporter": "python",
   "pygments_lexer": "ipython3",
   "version": "3.7.4"
  }
 },
 "nbformat": 4,
 "nbformat_minor": 2
}
