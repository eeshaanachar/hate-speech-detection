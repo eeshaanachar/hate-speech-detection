{
 "cells": [
  {
   "cell_type": "code",
   "execution_count": 1,
   "metadata": {},
   "outputs": [],
   "source": [
    "import pandas as pd\n",
    "import nltk\n",
    "import math\n",
    "import numpy as np\n",
    "import matplotlib.pyplot as plt\n",
    "from collections import Counter\n",
    "from nltk.stem.porter import PorterStemmer\n",
    "porter = PorterStemmer()\n",
    "#nltk.download('stopwords')\n",
    "#nltk.download('punkt')"
   ]
  },
  {
   "cell_type": "code",
   "execution_count": 3,
   "metadata": {},
   "outputs": [],
   "source": [
    "stopwords = nltk.corpus.stopwords.words('english')\n",
    "data = pd.read_csv('annotations_metadata.csv', na_values = ['idk/skip'], index_col = 'file_id')\n",
    "data.dropna(axis = 0, inplace = True)"
   ]
  },
  {
   "cell_type": "code",
   "execution_count": 30,
   "metadata": {},
   "outputs": [
    {
     "name": "stdout",
     "output_type": "stream",
     "text": [
      "{'negro': 65, 'hate': 32, 'kill': 24, 'scum': 23, 'africa': 22, 'women': 21, 'asian': 21, 'brown': 20, 'immigr': 20, 'liber': 20, 'stop': 19, 'hell': 19, 'crime': 19, 'hous': 18, 'homosexu': 18, 'cultur': 17, 'monkey': 17, 'soon': 16, 'jewish': 16, 'themselv': 16, 'citi': 16, 'muslim': 15, 'anim': 15, 'becom': 15, 'someth': 15, 'street': 15, 'leav': 15, 'filth': 14, 'walk': 14, 'town': 14, 'move': 14, 'seem': 13, 'human': 13, 'news': 13, 'happen': 13, 'irish': 13, 'real': 13, 'stand': 13, 'murder': 13, 'stupid': 12, 'hand': 12, 'woman': 12}\n"
     ]
    }
   ],
   "source": [
    "#train\n",
    "def getCommonWords(filenames):\n",
    "    words = []\n",
    "    for file in filenames:\n",
    "        ifile = open('./all_files/' + file + '.txt')\n",
    "        try:\n",
    "            words.extend(nltk.word_tokenize(ifile.read()))\n",
    "        except:\n",
    "            continue\n",
    "        ifile.close()\n",
    "    filtered_words = []\n",
    "    for word in words:\n",
    "        word = porter.stem(word)\n",
    "        if word.isalpha() and len(word)>3 and word not in stopwords:\n",
    "            filtered_words.append(word)\n",
    "    return filtered_words\n",
    "\n",
    "temp = data.head(math.floor(len(data)*0.7))\n",
    "\n",
    "filenames = temp[temp.label == 'noHate'].index\n",
    "possible_nonhate_words = getCommonWords(filenames)\n",
    "\n",
    "filenames = temp[temp.label == 'hate'].index\n",
    "possible_hate_words = getCommonWords(filenames)\n",
    "\n",
    "word_frequencies = dict()\n",
    "for w, c in Counter(possible_hate_words).most_common(100):\n",
    "    for x in Counter(possible_nonhate_words).most_common(100):\n",
    "        if w in x:\n",
    "            break\n",
    "    else:\n",
    "        word_frequencies[w] = c\n",
    "print(word_frequencies)"
   ]
  },
  {
   "cell_type": "code",
   "execution_count": 31,
   "metadata": {},
   "outputs": [],
   "source": [
    "vulgar_words = word_frequencies.keys()\n",
    "word_neighbours = {}\n",
    "for file in filenames:\n",
    "    ifile = open('./all_files/'+file+'.txt')\n",
    "    try:\n",
    "        file_contents = ifile.read()\n",
    "    except:\n",
    "        continue\n",
    "    x = nltk.word_tokenize(file_contents)\n",
    "    for i in range(len(x)):\n",
    "        word = porter.stem(x[i])\n",
    "        if word in vulgar_words:\n",
    "            if word not in word_neighbours:\n",
    "                word_neighbours[word] = x[i-3:i+4]\n",
    "            else:\n",
    "                word_neighbours[word].extend(x[i-3:i+4])"
   ]
  },
  {
   "cell_type": "code",
   "execution_count": 32,
   "metadata": {},
   "outputs": [],
   "source": [
    "#predict\n",
    "test_file_count = math.ceil(len(data)*0.3)\n",
    "filenames = data.tail(test_file_count).index\n",
    "results = dict()\n",
    "for file in filenames:\n",
    "    ifile = open('./all_files/'+file+'.txt')\n",
    "    try:\n",
    "        file_contents = ifile.read()\n",
    "    except:\n",
    "        continue\n",
    "    score, count = 0, 0\n",
    "    x = nltk.word_tokenize(file_contents)\n",
    "    for i in range(len(x)):\n",
    "        word = porter.stem(x[i])\n",
    "        if word not in stopwords and word.isalpha() and len(word)>3:\n",
    "            count += 1\n",
    "            score += word_frequencies.get(word, 0)\n",
    "        if word in vulgar_words:\n",
    "            for _ in x[i-2:i+3]:\n",
    "                if _ in word_neighbours[word]:\n",
    "                    score += 25\n",
    "    if count != 0:\n",
    "        avg_score = score/count\n",
    "    else:\n",
    "        avg_score = 0\n",
    "    results[file] = avg_score"
   ]
  },
  {
   "cell_type": "code",
   "execution_count": 33,
   "metadata": {},
   "outputs": [
    {
     "data": {
      "image/png": "[encoded data removed]",
      "text/plain": [
       "<Figure size 432x288 with 1 Axes>"
      ]
     },
     "metadata": {
      "needs_background": "light"
     },
     "output_type": "display_data"
    }
   ],
   "source": [
    "#analyse\n",
    "max_score = max(results.values())\n",
    "accuracy, precision, recall, cutoffs = list(), list(), list(), list()\n",
    "for i in range(20):\n",
    "    tp, tn, fp, fn = 0, 0, 0, 0\n",
    "    cutoff = i/max_score\n",
    "    for k,v in results.items():\n",
    "        normal_score = v/max_score\n",
    "        if normal_score > cutoff:\n",
    "            if data.loc[k, 'label'] == 'hate':\n",
    "                tp += 1\n",
    "            else:\n",
    "                fp += 1\n",
    "        else:\n",
    "            if data.loc[k, 'label'] == 'noHate':\n",
    "                tn += 1\n",
    "            else:\n",
    "                fn += 1\n",
    "    accuracy.append((tp+tn)/(tp+tn+fp+fn))\n",
    "    precision.append(tp/(tp+fp))\n",
    "    recall.append(tp/(tp+fn))\n",
    "    cutoffs.append(cutoff)\n",
    "plt.plot(cutoffs, accuracy, label = 'Accuracy')\n",
    "plt.plot(cutoffs, precision, label = 'Precision')\n",
    "plt.plot(cutoffs, recall, label = 'Recall')\n",
    "plt.legend()\n",
    "plt.show()"
   ]
  },
  {
   "cell_type": "code",
   "execution_count": null,
   "metadata": {},
   "outputs": [],
   "source": []
  }
 ],
 "metadata": {
  "kernelspec": {
   "display_name": "Python 3",
   "language": "python",
   "name": "python3"
  },
  "language_info": {
   "codemirror_mode": {
    "name": "ipython",
    "version": 3
   },
   "file_extension": ".py",
   "mimetype": "text/x-python",
   "name": "python",
   "nbconvert_exporter": "python",
   "pygments_lexer": "ipython3",
   "version": "3.7.4"
  }
 },
 "nbformat": 4,
 "nbformat_minor": 2
}
